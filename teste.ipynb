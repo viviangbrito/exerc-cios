{
 "cells": [
  {
   "cell_type": "code",
   "execution_count": 41,
   "metadata": {},
   "outputs": [
    {
     "name": "stdout",
     "output_type": "stream",
     "text": [
      "Você está no Menu Principal\n",
      "1. Cadastrar paciente OU 2. Sair\n",
      "Olá, Jana Silva!\n",
      "Seu telefone é 81991235689\n",
      "Paciente cadastrado com sucesso!\n"
     ]
    }
   ],
   "source": [
    "#cadastrar paciente\n",
    "\n",
    "print('Você está no Menu Principal')\n",
    "print('1. Cadastrar paciente OU 2. Sair')\n",
    "opcao = input('Digite 1 ou 2: ')\n",
    "\n",
    "if opcao == '1':  \n",
    "    nome = input('Digite seu nome completo: ')\n",
    "    print(f'Olá, {nome}!')\n",
    "\n",
    "    telefone = input('Digite seu telefone: ')\n",
    "    print(f'Seu telefone é {telefone}')\n",
    "\n",
    "    pacienteNOME = [] \n",
    "    pacienteTELEFONE = []\n",
    "\n",
    "    pacienteNOME.append(nome)\n",
    "    pacienteTELEFONE.append(telefone)\n",
    "    print('Paciente cadastrado com sucesso!')\n",
    "\n",
    "else:\n",
    "    print('Sair do programa?')\n"
   ]
  },
  {
   "cell_type": "code",
   "execution_count": null,
   "metadata": {},
   "outputs": [],
   "source": [
    "# Lista para armazenar os pacientes cadastrados\n",
    "pacientes_cadastrados = []\n",
    "\n",
    "# Mensagem de boas-vindas e exibição do menu\n",
    "print('Bem-vindo ao sistema de marcação de consultas!')\n",
    "\n",
    "# Opção 1: Cadastrar paciente\n",
    "print('\\n--- Menu Principal ---')\n",
    "print('1. para Cadastrar ou 2. Marcar consulta')\n",
    "opcao = input('Digite aqui')\n",
    "\n",
    "if opcao == '1':\n",
    "    nome = input('Digite seu nome completo: ')\n",
    "    print(f'Olá, {nome}!')\n",
    "\n",
    "    telefone = input('Digite seu telefone: ')\n",
    "    print(f'Seu telefone é {telefone}')\n",
    "\n",
    "    pacienteNOME = [] \n",
    "    pacienteTELEFONE = []\n",
    "\n",
    "    pacienteNOME.append(nome)\n",
    "    pacienteTELEFONE.append(telefone)\n",
    "    print('Paciente cadastrado com sucesso!')\n",
    "\n",
    "# Marcar consulta\n",
    "print('Menu Principal')\n",
    "print('2. Marcar consulta')\n",
    "opcao = input('Digite 2 para marcar consulta: ')\n",
    "\n",
    "if opcao == '2':\n",
    "    if len(pacientes_cadastrados) == 0:\n",
    "        print('Nenhum paciente cadastrado.')\n",
    "    else:\n",
    "        print('Pacientes Cadastrados')\n",
    "        for p, paciente in enumerate(pacientes_cadastrados, start=1):\n",
    "            print(f\"{p}. Nome: {paciente['nome']}, Telefone: {paciente['telefone']}\")\n",
    "        print('-----------------------------')\n",
    "\n",
    "        escolha = input('Escolha o número correspondente ao paciente para marcar a consulta: ')\n",
    "        indice = int(escolha) - 1\n",
    "        if 0 <= indice < len(pacientes_cadastrados):\n",
    "            paciente = pacientes_cadastrados[indice]\n",
    "            dia = input('Digite o dia da consulta (dd/mm/yyyy): ')\n",
    "            hora = input('Digite a hora da consulta (hh:mm): ')\n",
    "            especialidade = input('Digite a especialidade desejada para a consulta: ')\n",
    "\n",
    "            print('\\nConsulta marcada:')\n",
    "            print(f\"Paciente: {paciente['nome']}, Dia: {dia}, Hora: {hora}, Especialidade: {especialidade}\")\n",
    "        else:\n",
    "            print('Escolha inválida.')\n",
    "\n",
    "# Mensagem de finalização\n",
    "print('\\nPrograma encerrado.')\n",
    "\n"
   ]
  }
 ],
 "metadata": {
  "kernelspec": {
   "display_name": "Python 3",
   "language": "python",
   "name": "python3"
  },
  "language_info": {
   "codemirror_mode": {
    "name": "ipython",
    "version": 3
   },
   "file_extension": ".py",
   "mimetype": "text/x-python",
   "name": "python",
   "nbconvert_exporter": "python",
   "pygments_lexer": "ipython3",
   "version": "3.11.4"
  }
 },
 "nbformat": 4,
 "nbformat_minor": 2
}
